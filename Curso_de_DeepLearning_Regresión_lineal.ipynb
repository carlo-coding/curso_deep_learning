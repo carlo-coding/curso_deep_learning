{
  "nbformat": 4,
  "nbformat_minor": 0,
  "metadata": {
    "colab": {
      "name": "Curso de DeepLearning: Regresión lineal",
      "provenance": [],
      "collapsed_sections": [],
      "authorship_tag": "ABX9TyOAYTTLwBZcMF4vRy3pyERU",
      "include_colab_link": true
    },
    "kernelspec": {
      "name": "python3",
      "display_name": "Python 3"
    },
    "language_info": {
      "name": "python"
    }
  },
  "cells": [
    {
      "cell_type": "markdown",
      "metadata": {
        "id": "view-in-github",
        "colab_type": "text"
      },
      "source": [
        "<a href=\"https://colab.research.google.com/github/carlo-coding/curso_deep_learning/blob/main/Curso_de_DeepLearning_Regresi%C3%B3n_lineal.ipynb\" target=\"_parent\"><img src=\"https://colab.research.google.com/assets/colab-badge.svg\" alt=\"Open In Colab\"/></a>"
      ]
    },
    {
      "cell_type": "code",
      "source": [
        "import numpy as np\n",
        "import matplotlib.pyplot as plt\n",
        "\n",
        "\n",
        "horas_estudiadas = np.random.uniform(0, 20, size=30)\n",
        "\n",
        "resultado_examen = 3*horas_estudiadas + 3.5*np.random.uniform(0, 10, size=30)\n",
        "\n",
        "hr_norm = np.linalg.norm(horas_estudiadas)\n",
        "re_norm = np.linalg.norm(resultado_examen)\n",
        "\n",
        "horas_estudiadas /= hr_norm\n",
        "resultado_examen /= re_norm\n",
        "\n",
        "plt.scatter(horas_estudiadas, resultado_examen)\n",
        "plt.grid()\n",
        "plt.show()\n"
      ],
      "metadata": {
        "colab": {
          "base_uri": "https://localhost:8080/",
          "height": 265
        },
        "id": "Xp80AJrPieaa",
        "outputId": "4a20c729-47de-4f88-f4dc-19fb27e0749c"
      },
      "execution_count": 2,
      "outputs": [
        {
          "output_type": "display_data",
          "data": {
            "text/plain": [
              "<Figure size 432x288 with 1 Axes>"
            ],
            "image/png": "[encoded data removed]"
          },
          "metadata": {
            "needs_background": "light"
          }
        }
      ]
    },
    {
      "cell_type": "code",
      "source": [
        "class Model():\n",
        "  def __init__(self, lr):\n",
        "    self.lr = lr\n",
        "    self.m = 0\n",
        "    self.b = 0\n",
        "    self.error = []\n",
        "\n",
        "  def predict(self, x):\n",
        "    return self.m * x + self.b\n",
        "\n",
        "  def train(self, x, y):\n",
        "    gradient_m = 0\n",
        "    gradient_b = 0\n",
        "\n",
        "\n",
        "    n = len(x)\n",
        "\n",
        "    for i in range(n):\n",
        "      err = (1/n) * (y[i] - self.predict( x[i] ))**2\n",
        "      self.error.append(err)\n",
        "      gradient_m += -(2/n) * x[i] * (y[i] - self.predict( x[i] ))\n",
        "      gradient_b += -(2/n) * (y[i] - self.predict( x[i] ))\n",
        "\n",
        "    self.m -= self.lr * gradient_m\n",
        "    self.b -= self.lr * gradient_b\n",
        "\n",
        "\n",
        "model = Model(0.5)\n",
        "\n",
        "EPOCHS = 500\n",
        "\n",
        "for epoc in range(EPOCHS):\n",
        "  model.train(horas_estudiadas, resultado_examen)\n",
        "\n",
        "dots = np.linspace(np.min(horas_estudiadas), np.max(horas_estudiadas), 10)\n",
        "\n",
        "plt.scatter(horas_estudiadas, resultado_examen, label=\"datos reales\")\n",
        "plt.plot(dots, [model.predict(dot) for dot in dots], label=\"modelo\", color=\"red\")\n",
        "plt.grid()\n",
        "plt.show()"
      ],
      "metadata": {
        "colab": {
          "base_uri": "https://localhost:8080/",
          "height": 265
        },
        "id": "0xwCKAOnjmWj",
        "outputId": "096c0ba9-76f7-42cb-9993-391934506b1b"
      },
      "execution_count": 16,
      "outputs": [
        {
          "output_type": "display_data",
          "data": {
            "text/plain": [
              "<Figure size 432x288 with 1 Axes>"
            ],
            "image/png": "[encoded data removed]"
          },
          "metadata": {
            "needs_background": "light"
          }
        }
      ]
    },
    {
      "cell_type": "code",
      "source": [
        "plt.plot(range(EPOCHS*len(horas_estudiadas)), model.error)\n",
        "plt.show()"
      ],
      "metadata": {
        "colab": {
          "base_uri": "https://localhost:8080/",
          "height": 265
        },
        "id": "cHwYrBZEmKmP",
        "outputId": "85ca3ba2-0db4-4a5d-fc1f-4e87db6e6e54"
      },
      "execution_count": 17,
      "outputs": [
        {
          "output_type": "display_data",
          "data": {
            "text/plain": [
              "<Figure size 432x288 with 1 Axes>"
            ],
            "image/png": "[encoded data removed]"
          },
          "metadata": {
            "needs_background": "light"
          }
        }
      ]
    },
    {
      "cell_type": "code",
      "source": [
        "model.predict(27 / hr_norm) * re_norm"
      ],
      "metadata": {
        "colab": {
          "base_uri": "https://localhost:8080/"
        },
        "id": "RI6Ow4vNlX9x",
        "outputId": "601cb03d-74d3-44aa-e7e2-c8fe9e0e0b3a"
      },
      "execution_count": 9,
      "outputs": [
        {
          "output_type": "execute_result",
          "data": {
            "text/plain": [
              "94.97932936737075"
            ]
          },
          "metadata": {},
          "execution_count": 9
        }
      ]
    }
  ]
}