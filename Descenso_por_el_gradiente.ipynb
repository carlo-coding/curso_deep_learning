{
  "nbformat": 4,
  "nbformat_minor": 0,
  "metadata": {
    "colab": {
      "name": "Descenso por el gradiente.ipynb",
      "provenance": [],
      "collapsed_sections": [],
      "authorship_tag": "ABX9TyO629ISALnQ4rDCRHMwd9aL",
      "include_colab_link": true
    },
    "kernelspec": {
      "name": "python3",
      "display_name": "Python 3"
    },
    "language_info": {
      "name": "python"
    }
  },
  "cells": [
    {
      "cell_type": "markdown",
      "metadata": {
        "id": "view-in-github",
        "colab_type": "text"
      },
      "source": [
        "<a href=\"https://colab.research.google.com/github/carlo-coding/curso_deep_learning/blob/main/Descenso_por_el_gradiente.ipynb\" target=\"_parent\"><img src=\"https://colab.research.google.com/assets/colab-badge.svg\" alt=\"Open In Colab\"/></a>"
      ]
    },
    {
      "cell_type": "markdown",
      "source": [
        "### Descenso por el gradiente\n",
        "\n",
        "\n"
      ],
      "metadata": {
        "id": "D4TJttzMfGG0"
      }
    },
    {
      "cell_type": "code",
      "source": [
        "import numpy as np\n",
        "import matplotlib.pyplot as plt\n",
        "from scipy.misc import derivative"
      ],
      "metadata": {
        "id": "EjvC9WMxgFw_"
      },
      "execution_count": 172,
      "outputs": []
    },
    {
      "cell_type": "code",
      "execution_count": 173,
      "metadata": {
        "id": "n0fdm1E_e6D8"
      },
      "outputs": [],
      "source": [
        "def descenso_por_gradiente(x, n, alfa, f, acc=0.1):\n",
        "  # 2 listas de los valores de (x, y) para visualizarlos\n",
        "  x_list, y_list = [x], [f(x)]\n",
        "\n",
        "  for _ in range(n-1):\n",
        "     # Derivada númerica\n",
        "    d_x = - derivative(f, x, dx=1e-6)\n",
        "\n",
        "    # nuevo valor de x: sumamos valor previo + alfa * derivada negativa\n",
        "    x += d_x * alfa\n",
        "\n",
        "    x_list.append(x)\n",
        "    y_list.append(f(x))\n",
        "\n",
        "    if abs(x_list[-1] - x_list[-2]) <= acc:\n",
        "      break\n",
        "  # Fin del For\n",
        "\n",
        "  print(f\"Minimo local: {x}\")\n",
        "  print(f\"Pasos {len(x_list)}\")\n",
        "\n",
        "  return x_list, y_list"
      ]
    },
    {
      "cell_type": "code",
      "source": [
        "fn = lambda x: ( (x**2) * np.cos(x) - x ) / 10\n",
        "x_values = np.linspace(-20, 20, 500)\n",
        "y_values = fn(x_values)\n",
        "\n",
        "x_list, y_list = descenso_por_gradiente(18.0, 100, 0.01, fn, 0.001)\n",
        "\n",
        "plt.subplot(1, 2, 2)\n",
        "plt.scatter(x_list, y_list, c=\"g\")\n",
        "plt.plot(x_list, y_list, c=\"g\")\n",
        "plt.plot(x_values, y_values)\n",
        "plt.title(\"Descenso del gradiente\")\n",
        "plt.show()"
      ],
      "metadata": {
        "colab": {
          "base_uri": "https://localhost:8080/",
          "height": 317
        },
        "id": "fGj-ZauDKce8",
        "outputId": "d6a36cce-aca2-4e76-bf74-27cc566cc033"
      },
      "execution_count": 195,
      "outputs": [
        {
          "output_type": "stream",
          "name": "stdout",
          "text": [
            "Minimo local: 15.84026926163083\n",
            "Pasos 25\n"
          ]
        },
        {
          "output_type": "display_data",
          "data": {
            "text/plain": [
              "<Figure size 432x288 with 1 Axes>"
            ],
            "image/png": "[encoded data removed]"
          },
          "metadata": {
            "needs_background": "light"
          }
        }
      ]
    },
    {
      "cell_type": "code",
      "source": [
        ""
      ],
      "metadata": {
        "id": "4hCvu0pbTCCV"
      },
      "execution_count": 121,
      "outputs": []
    }
  ]
}